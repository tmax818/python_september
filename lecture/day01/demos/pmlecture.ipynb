{
 "cells": [
  {
   "cell_type": "markdown",
   "id": "1ba3242d",
   "metadata": {},
   "source": [
    "# Day 1 (afternoon)"
   ]
  },
  {
   "cell_type": "markdown",
   "id": "bef36a4b",
   "metadata": {},
   "source": [
    "## composite types\n",
    "- lists\n",
    "- dictionaries"
   ]
  },
  {
   "cell_type": "code",
   "execution_count": 1,
   "id": "d17635ef",
   "metadata": {},
   "outputs": [],
   "source": [
    "name = 'tyler'"
   ]
  },
  {
   "cell_type": "code",
   "execution_count": 2,
   "id": "f2e3da82",
   "metadata": {},
   "outputs": [
    {
     "data": {
      "text/plain": [
       "140272117611248"
      ]
     },
     "execution_count": 2,
     "metadata": {},
     "output_type": "execute_result"
    }
   ],
   "source": [
    "id(name)"
   ]
  },
  {
   "cell_type": "code",
   "execution_count": 3,
   "id": "ee5dfeba",
   "metadata": {},
   "outputs": [
    {
     "data": {
      "text/plain": [
       "'tyler'"
      ]
     },
     "execution_count": 3,
     "metadata": {},
     "output_type": "execute_result"
    }
   ],
   "source": [
    "name"
   ]
  },
  {
   "cell_type": "code",
   "execution_count": null,
   "id": "4c07c5ae",
   "metadata": {},
   "outputs": [],
   "source": []
  },
  {
   "cell_type": "code",
   "execution_count": 4,
   "id": "ba7e2dce",
   "metadata": {},
   "outputs": [
    {
     "name": "stdout",
     "output_type": "stream",
     "text": [
      "please enter you namecameron\n"
     ]
    }
   ],
   "source": [
    "name1 = input(\"please enter you name\")"
   ]
  },
  {
   "cell_type": "code",
   "execution_count": 6,
   "id": "c46d903d",
   "metadata": {},
   "outputs": [
    {
     "data": {
      "text/plain": [
       "'cameron'"
      ]
     },
     "execution_count": 6,
     "metadata": {},
     "output_type": "execute_result"
    }
   ],
   "source": [
    "name1"
   ]
  },
  {
   "cell_type": "code",
   "execution_count": 7,
   "id": "68d7da88",
   "metadata": {},
   "outputs": [
    {
     "data": {
      "text/plain": [
       "140272111019696"
      ]
     },
     "execution_count": 7,
     "metadata": {},
     "output_type": "execute_result"
    }
   ],
   "source": [
    "id(name1)"
   ]
  },
  {
   "cell_type": "code",
   "execution_count": 8,
   "id": "49e61eee",
   "metadata": {},
   "outputs": [],
   "source": [
    "name = 'cameron'"
   ]
  },
  {
   "cell_type": "code",
   "execution_count": 9,
   "id": "e53a5d0c",
   "metadata": {},
   "outputs": [
    {
     "data": {
      "text/plain": [
       "140272111021424"
      ]
     },
     "execution_count": 9,
     "metadata": {},
     "output_type": "execute_result"
    }
   ],
   "source": [
    "id(name)"
   ]
  },
  {
   "cell_type": "code",
   "execution_count": 11,
   "id": "88508df8",
   "metadata": {},
   "outputs": [
    {
     "data": {
      "text/plain": [
       "140272117611248"
      ]
     },
     "execution_count": 11,
     "metadata": {},
     "output_type": "execute_result"
    }
   ],
   "source": [
    "id('tyler')"
   ]
  },
  {
   "cell_type": "code",
   "execution_count": 12,
   "id": "432d2e35",
   "metadata": {},
   "outputs": [],
   "source": [
    "names = ['trevon']"
   ]
  },
  {
   "cell_type": "code",
   "execution_count": 13,
   "id": "90c5d936",
   "metadata": {},
   "outputs": [],
   "source": [
    "names1 = ['trevon']"
   ]
  },
  {
   "cell_type": "code",
   "execution_count": 14,
   "id": "81ddeeea",
   "metadata": {},
   "outputs": [
    {
     "data": {
      "text/plain": [
       "140272111062656"
      ]
     },
     "execution_count": 14,
     "metadata": {},
     "output_type": "execute_result"
    }
   ],
   "source": [
    "id(names)"
   ]
  },
  {
   "cell_type": "code",
   "execution_count": 15,
   "id": "b16687d7",
   "metadata": {},
   "outputs": [
    {
     "data": {
      "text/plain": [
       "140272110754496"
      ]
     },
     "execution_count": 15,
     "metadata": {},
     "output_type": "execute_result"
    }
   ],
   "source": [
    "id(names1)"
   ]
  },
  {
   "cell_type": "code",
   "execution_count": 16,
   "id": "79ca1103",
   "metadata": {},
   "outputs": [
    {
     "data": {
      "text/plain": [
       "140272110849776"
      ]
     },
     "execution_count": 16,
     "metadata": {},
     "output_type": "execute_result"
    }
   ],
   "source": [
    "id('trevon')"
   ]
  },
  {
   "cell_type": "code",
   "execution_count": 17,
   "id": "4c5b6246",
   "metadata": {},
   "outputs": [
    {
     "data": {
      "text/plain": [
       "140272110849776"
      ]
     },
     "execution_count": 17,
     "metadata": {},
     "output_type": "execute_result"
    }
   ],
   "source": [
    "id(names[0])"
   ]
  },
  {
   "cell_type": "code",
   "execution_count": 18,
   "id": "13665655",
   "metadata": {},
   "outputs": [],
   "source": [
    "names[0] = 'alex'"
   ]
  },
  {
   "cell_type": "code",
   "execution_count": 19,
   "id": "f6de4ebe",
   "metadata": {},
   "outputs": [
    {
     "data": {
      "text/plain": [
       "'trevon'"
      ]
     },
     "execution_count": 19,
     "metadata": {},
     "output_type": "execute_result"
    }
   ],
   "source": [
    "names1[0]"
   ]
  },
  {
   "cell_type": "code",
   "execution_count": 20,
   "id": "ea2f4700",
   "metadata": {},
   "outputs": [],
   "source": [
    "names = names1"
   ]
  },
  {
   "cell_type": "code",
   "execution_count": 21,
   "id": "931dabe6",
   "metadata": {},
   "outputs": [
    {
     "data": {
      "text/plain": [
       "'trevon'"
      ]
     },
     "execution_count": 21,
     "metadata": {},
     "output_type": "execute_result"
    }
   ],
   "source": [
    "names[0]"
   ]
  },
  {
   "cell_type": "code",
   "execution_count": null,
   "id": "b4529441",
   "metadata": {},
   "outputs": [],
   "source": []
  },
  {
   "cell_type": "code",
   "execution_count": null,
   "id": "2fcdd3d3",
   "metadata": {},
   "outputs": [],
   "source": []
  },
  {
   "cell_type": "code",
   "execution_count": 22,
   "id": "7c357edf",
   "metadata": {},
   "outputs": [],
   "source": [
    "names.append('sam')"
   ]
  },
  {
   "cell_type": "code",
   "execution_count": 23,
   "id": "ef843431",
   "metadata": {},
   "outputs": [
    {
     "data": {
      "text/plain": [
       "140272110754496"
      ]
     },
     "execution_count": 23,
     "metadata": {},
     "output_type": "execute_result"
    }
   ],
   "source": [
    "id(names)"
   ]
  },
  {
   "cell_type": "code",
   "execution_count": 24,
   "id": "89671b24",
   "metadata": {},
   "outputs": [
    {
     "data": {
      "text/plain": [
       "['trevon', 'sam']"
      ]
     },
     "execution_count": 24,
     "metadata": {},
     "output_type": "execute_result"
    }
   ],
   "source": [
    "names1"
   ]
  },
  {
   "cell_type": "code",
   "execution_count": null,
   "id": "aed6e97e",
   "metadata": {},
   "outputs": [],
   "source": []
  },
  {
   "cell_type": "code",
   "execution_count": null,
   "id": "ed9061d5",
   "metadata": {},
   "outputs": [],
   "source": [
    "my_list = ['trevon', 'duque', 'cameron', 'sam']"
   ]
  },
  {
   "cell_type": "code",
   "execution_count": null,
   "id": "983961c8",
   "metadata": {},
   "outputs": [],
   "source": [
    "my_list[::-1]"
   ]
  },
  {
   "cell_type": "code",
   "execution_count": null,
   "id": "0440d05c",
   "metadata": {},
   "outputs": [],
   "source": [
    "my_list[1:3]"
   ]
  },
  {
   "cell_type": "code",
   "execution_count": 25,
   "id": "8a6ea579",
   "metadata": {},
   "outputs": [],
   "source": [
    "person = \"cameron\""
   ]
  },
  {
   "cell_type": "code",
   "execution_count": null,
   "id": "9fb0f63f",
   "metadata": {},
   "outputs": [],
   "source": [
    "person = ['cameron', 22, True]"
   ]
  },
  {
   "cell_type": "code",
   "execution_count": 27,
   "id": "449ef287",
   "metadata": {},
   "outputs": [],
   "source": [
    "person_dict = {'fname': 'cameron', 'age': 22}"
   ]
  },
  {
   "cell_type": "code",
   "execution_count": 28,
   "id": "4c5906f3",
   "metadata": {},
   "outputs": [
    {
     "data": {
      "text/plain": [
       "22"
      ]
     },
     "execution_count": 28,
     "metadata": {},
     "output_type": "execute_result"
    }
   ],
   "source": [
    "person_dict['age']"
   ]
  },
  {
   "cell_type": "code",
   "execution_count": 29,
   "id": "43f00f6f",
   "metadata": {},
   "outputs": [],
   "source": [
    "person_dict['age'] += 1"
   ]
  },
  {
   "cell_type": "code",
   "execution_count": 30,
   "id": "bcbc574f",
   "metadata": {},
   "outputs": [
    {
     "data": {
      "text/plain": [
       "{'fname': 'cameron', 'age': 23}"
      ]
     },
     "execution_count": 30,
     "metadata": {},
     "output_type": "execute_result"
    }
   ],
   "source": [
    "person_dict"
   ]
  },
  {
   "cell_type": "code",
   "execution_count": 31,
   "id": "f94723f7",
   "metadata": {},
   "outputs": [],
   "source": [
    "person_dict['hobbies'] = []"
   ]
  },
  {
   "cell_type": "code",
   "execution_count": 32,
   "id": "216669a6",
   "metadata": {},
   "outputs": [
    {
     "data": {
      "text/plain": [
       "{'fname': 'cameron', 'age': 23, 'hobbies': []}"
      ]
     },
     "execution_count": 32,
     "metadata": {},
     "output_type": "execute_result"
    }
   ],
   "source": [
    "person_dict"
   ]
  },
  {
   "cell_type": "code",
   "execution_count": 33,
   "id": "9ff323f2",
   "metadata": {},
   "outputs": [],
   "source": [
    "person_dict['hobbies'].append('coding')"
   ]
  },
  {
   "cell_type": "code",
   "execution_count": 34,
   "id": "ad9dac4a",
   "metadata": {},
   "outputs": [
    {
     "data": {
      "text/plain": [
       "{'fname': 'cameron', 'age': 23, 'hobbies': ['coding']}"
      ]
     },
     "execution_count": 34,
     "metadata": {},
     "output_type": "execute_result"
    }
   ],
   "source": [
    "person_dict"
   ]
  },
  {
   "cell_type": "code",
   "execution_count": 35,
   "id": "422669c2",
   "metadata": {},
   "outputs": [
    {
     "data": {
      "text/plain": [
       "'coding'"
      ]
     },
     "execution_count": 35,
     "metadata": {},
     "output_type": "execute_result"
    }
   ],
   "source": [
    "person_dict['hobbies'].pop()"
   ]
  },
  {
   "cell_type": "code",
   "execution_count": 36,
   "id": "6c32b7ab",
   "metadata": {},
   "outputs": [
    {
     "data": {
      "text/plain": [
       "{'fname': 'cameron', 'age': 23, 'hobbies': []}"
      ]
     },
     "execution_count": 36,
     "metadata": {},
     "output_type": "execute_result"
    }
   ],
   "source": [
    "person_dict"
   ]
  },
  {
   "cell_type": "code",
   "execution_count": null,
   "id": "a3d63dcd",
   "metadata": {},
   "outputs": [],
   "source": []
  }
 ],
 "metadata": {
  "kernelspec": {
   "display_name": "Python 3 (ipykernel)",
   "language": "python",
   "name": "python3"
  },
  "language_info": {
   "codemirror_mode": {
    "name": "ipython",
    "version": 3
   },
   "file_extension": ".py",
   "mimetype": "text/x-python",
   "name": "python",
   "nbconvert_exporter": "python",
   "pygments_lexer": "ipython3",
   "version": "3.10.4"
  }
 },
 "nbformat": 4,
 "nbformat_minor": 5
}
