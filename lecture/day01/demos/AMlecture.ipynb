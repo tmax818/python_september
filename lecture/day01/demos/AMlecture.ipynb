{
 "cells": [
  {
   "cell_type": "markdown",
   "id": "a0be44a0",
   "metadata": {},
   "source": [
    "# Data Types\n",
    "\n",
    "- Numbers\n",
    "- Strings\n",
    "- `None`\n",
    "- Booleans"
   ]
  },
  {
   "cell_type": "code",
   "execution_count": 3,
   "id": "05584104",
   "metadata": {},
   "outputs": [
    {
     "data": {
      "text/plain": [
       "int"
      ]
     },
     "execution_count": 3,
     "metadata": {},
     "output_type": "execute_result"
    }
   ],
   "source": [
    "type(42)"
   ]
  },
  {
   "cell_type": "code",
   "execution_count": 4,
   "id": "c9b6044a",
   "metadata": {},
   "outputs": [
    {
     "data": {
      "text/plain": [
       "float"
      ]
     },
     "execution_count": 4,
     "metadata": {},
     "output_type": "execute_result"
    }
   ],
   "source": [
    "type(42.2)"
   ]
  },
  {
   "cell_type": "code",
   "execution_count": 5,
   "id": "1069933c",
   "metadata": {},
   "outputs": [
    {
     "data": {
      "text/plain": [
       "12"
      ]
     },
     "execution_count": 5,
     "metadata": {},
     "output_type": "execute_result"
    }
   ],
   "source": [
    "3 * 4"
   ]
  },
  {
   "cell_type": "code",
   "execution_count": 6,
   "id": "140b9fa5",
   "metadata": {},
   "outputs": [
    {
     "data": {
      "text/plain": [
       "1.3333333333333333"
      ]
     },
     "execution_count": 6,
     "metadata": {},
     "output_type": "execute_result"
    }
   ],
   "source": [
    "4 / 3"
   ]
  },
  {
   "cell_type": "code",
   "execution_count": 7,
   "id": "71e2daba",
   "metadata": {},
   "outputs": [
    {
     "data": {
      "text/plain": [
       "1"
      ]
     },
     "execution_count": 7,
     "metadata": {},
     "output_type": "execute_result"
    }
   ],
   "source": [
    "4 // 3"
   ]
  },
  {
   "cell_type": "code",
   "execution_count": 8,
   "id": "f33ad2fd",
   "metadata": {},
   "outputs": [
    {
     "data": {
      "text/plain": [
       "1"
      ]
     },
     "execution_count": 8,
     "metadata": {},
     "output_type": "execute_result"
    }
   ],
   "source": [
    "4 % 3"
   ]
  },
  {
   "cell_type": "code",
   "execution_count": 9,
   "id": "4e5afd91",
   "metadata": {},
   "outputs": [
    {
     "data": {
      "text/plain": [
       "False"
      ]
     },
     "execution_count": 9,
     "metadata": {},
     "output_type": "execute_result"
    }
   ],
   "source": [
    "7 % 2 == 0"
   ]
  },
  {
   "cell_type": "code",
   "execution_count": 10,
   "id": "556832a6",
   "metadata": {},
   "outputs": [],
   "source": [
    "x = 42"
   ]
  },
  {
   "cell_type": "code",
   "execution_count": 11,
   "id": "761db633",
   "metadata": {},
   "outputs": [
    {
     "data": {
      "text/plain": [
       "True"
      ]
     },
     "execution_count": 11,
     "metadata": {},
     "output_type": "execute_result"
    }
   ],
   "source": [
    "x == 42"
   ]
  },
  {
   "cell_type": "code",
   "execution_count": 12,
   "id": "0cf8691a",
   "metadata": {},
   "outputs": [],
   "source": [
    "name = \"Monty Python\""
   ]
  },
  {
   "cell_type": "code",
   "execution_count": 13,
   "id": "b85ba95d",
   "metadata": {},
   "outputs": [
    {
     "data": {
      "text/plain": [
       "str"
      ]
     },
     "execution_count": 13,
     "metadata": {},
     "output_type": "execute_result"
    }
   ],
   "source": [
    "type(name)"
   ]
  },
  {
   "cell_type": "code",
   "execution_count": 17,
   "id": "a36a5f7a",
   "metadata": {},
   "outputs": [],
   "source": [
    "language = 'Python'"
   ]
  },
  {
   "cell_type": "code",
   "execution_count": 27,
   "id": "adf8ec58",
   "metadata": {},
   "outputs": [
    {
     "ename": "SyntaxError",
     "evalue": "invalid syntax (3534525973.py, line 1)",
     "output_type": "error",
     "traceback": [
      "\u001b[0;36m  File \u001b[0;32m\"/tmp/ipykernel_17665/3534525973.py\"\u001b[0;36m, line \u001b[0;32m1\u001b[0m\n\u001b[0;31m    sentence = \"The \" + language + \" language comes from \" + name  \".\"\u001b[0m\n\u001b[0m                                                                   ^\u001b[0m\n\u001b[0;31mSyntaxError\u001b[0m\u001b[0;31m:\u001b[0m invalid syntax\n"
     ]
    }
   ],
   "source": [
    "sentence = \"The \" + language + \" language comes from \" + name  +\".\""
   ]
  },
  {
   "cell_type": "code",
   "execution_count": 19,
   "id": "e964388b",
   "metadata": {},
   "outputs": [
    {
     "data": {
      "text/plain": [
       "'The Python language comes from Monty Python.'"
      ]
     },
     "execution_count": 19,
     "metadata": {},
     "output_type": "execute_result"
    }
   ],
   "source": [
    "sentence"
   ]
  },
  {
   "cell_type": "code",
   "execution_count": 21,
   "id": "6a75c53d",
   "metadata": {},
   "outputs": [],
   "source": [
    "sentence1 = \"The {} language comes from {}\".format(language, name)"
   ]
  },
  {
   "cell_type": "code",
   "execution_count": 23,
   "id": "52358f07",
   "metadata": {},
   "outputs": [
    {
     "data": {
      "text/plain": [
       "'The Python language comes from Monty Python'"
      ]
     },
     "execution_count": 23,
     "metadata": {},
     "output_type": "execute_result"
    }
   ],
   "source": [
    "sentence1"
   ]
  },
  {
   "cell_type": "code",
   "execution_count": 24,
   "id": "6b810e60",
   "metadata": {},
   "outputs": [],
   "source": [
    "sentence2 = f\"the {language} comes from {name}.\""
   ]
  },
  {
   "cell_type": "code",
   "execution_count": 25,
   "id": "97944772",
   "metadata": {},
   "outputs": [
    {
     "data": {
      "text/plain": [
       "'the Python comes from Monty Python.'"
      ]
     },
     "execution_count": 25,
     "metadata": {},
     "output_type": "execute_result"
    }
   ],
   "source": [
    "sentence2"
   ]
  },
  {
   "cell_type": "code",
   "execution_count": 26,
   "id": "700e3d07",
   "metadata": {},
   "outputs": [
    {
     "name": "stdout",
     "output_type": "stream",
     "text": [
      "The Python language comes from Monty Python\n"
     ]
    }
   ],
   "source": [
    "print(sentence)"
   ]
  },
  {
   "cell_type": "code",
   "execution_count": 28,
   "id": "0554b587",
   "metadata": {},
   "outputs": [
    {
     "data": {
      "text/plain": [
       "False"
      ]
     },
     "execution_count": 28,
     "metadata": {},
     "output_type": "execute_result"
    }
   ],
   "source": [
    "False"
   ]
  },
  {
   "cell_type": "code",
   "execution_count": 29,
   "id": "4230486f",
   "metadata": {},
   "outputs": [
    {
     "data": {
      "text/plain": [
       "True"
      ]
     },
     "execution_count": 29,
     "metadata": {},
     "output_type": "execute_result"
    }
   ],
   "source": [
    "not False"
   ]
  },
  {
   "cell_type": "code",
   "execution_count": 30,
   "id": "2bea3c57",
   "metadata": {},
   "outputs": [
    {
     "data": {
      "text/plain": [
       "False"
      ]
     },
     "execution_count": 30,
     "metadata": {},
     "output_type": "execute_result"
    }
   ],
   "source": [
    "not True"
   ]
  },
  {
   "cell_type": "code",
   "execution_count": 31,
   "id": "8867e62b",
   "metadata": {},
   "outputs": [
    {
     "data": {
      "text/plain": [
       "True"
      ]
     },
     "execution_count": 31,
     "metadata": {},
     "output_type": "execute_result"
    }
   ],
   "source": [
    "True and True"
   ]
  },
  {
   "cell_type": "code",
   "execution_count": 32,
   "id": "4b765f78",
   "metadata": {},
   "outputs": [
    {
     "data": {
      "text/plain": [
       "False"
      ]
     },
     "execution_count": 32,
     "metadata": {},
     "output_type": "execute_result"
    }
   ],
   "source": [
    "True and False"
   ]
  },
  {
   "cell_type": "code",
   "execution_count": 33,
   "id": "51b291da",
   "metadata": {},
   "outputs": [
    {
     "data": {
      "text/plain": [
       "True"
      ]
     },
     "execution_count": 33,
     "metadata": {},
     "output_type": "execute_result"
    }
   ],
   "source": [
    "True or False"
   ]
  },
  {
   "cell_type": "markdown",
   "id": "ab5eb10d",
   "metadata": {},
   "source": [
    "# Statements and Expression\n",
    "- statement - command we give to the computer\n",
    "- expression - code that returns a value\n"
   ]
  },
  {
   "cell_type": "code",
   "execution_count": 34,
   "id": "21ccfa86",
   "metadata": {},
   "outputs": [
    {
     "data": {
      "text/plain": [
       "False"
      ]
     },
     "execution_count": 34,
     "metadata": {},
     "output_type": "execute_result"
    }
   ],
   "source": [
    "5 == 6 # falsy"
   ]
  },
  {
   "cell_type": "code",
   "execution_count": 35,
   "id": "02a54902",
   "metadata": {},
   "outputs": [
    {
     "data": {
      "text/plain": [
       "True"
      ]
     },
     "execution_count": 35,
     "metadata": {},
     "output_type": "execute_result"
    }
   ],
   "source": [
    "5 == 5 # truthy"
   ]
  },
  {
   "cell_type": "markdown",
   "id": "682a7060",
   "metadata": {},
   "source": [
    "# composite type\n",
    "- can consist of primative types or other composite types\n",
    "\n",
    "## our types\n",
    "- lists\n",
    "- dictionaries"
   ]
  },
  {
   "cell_type": "code",
   "execution_count": 36,
   "id": "af42453e",
   "metadata": {},
   "outputs": [],
   "source": [
    "item1 = \"money\""
   ]
  },
  {
   "cell_type": "code",
   "execution_count": 37,
   "id": "d033b3b6",
   "metadata": {},
   "outputs": [],
   "source": [
    "item2 = \"candy\""
   ]
  },
  {
   "cell_type": "code",
   "execution_count": 38,
   "id": "8d4f4499",
   "metadata": {},
   "outputs": [],
   "source": [
    "item3 = \"liquor licence\""
   ]
  },
  {
   "cell_type": "code",
   "execution_count": 39,
   "id": "33d8aa70",
   "metadata": {},
   "outputs": [],
   "source": [
    "item4 = \"business licence\""
   ]
  },
  {
   "cell_type": "code",
   "execution_count": 40,
   "id": "109d086a",
   "metadata": {},
   "outputs": [],
   "source": [
    "item5 = \"bank account\""
   ]
  },
  {
   "cell_type": "code",
   "execution_count": 41,
   "id": "90e0a5de",
   "metadata": {},
   "outputs": [],
   "source": [
    "business_todo = []"
   ]
  },
  {
   "cell_type": "code",
   "execution_count": 42,
   "id": "a4e80958",
   "metadata": {},
   "outputs": [],
   "source": [
    "business_todo.append(item1)"
   ]
  },
  {
   "cell_type": "code",
   "execution_count": 43,
   "id": "6459a200",
   "metadata": {},
   "outputs": [
    {
     "data": {
      "text/plain": [
       "['money']"
      ]
     },
     "execution_count": 43,
     "metadata": {},
     "output_type": "execute_result"
    }
   ],
   "source": [
    "business_todo"
   ]
  },
  {
   "cell_type": "code",
   "execution_count": 44,
   "id": "7869aeae",
   "metadata": {},
   "outputs": [],
   "source": [
    "business_todo.append(item2)"
   ]
  },
  {
   "cell_type": "code",
   "execution_count": 45,
   "id": "cff0ce98",
   "metadata": {},
   "outputs": [],
   "source": [
    "business_todo = [item1, item2, item3, item4, item5]"
   ]
  },
  {
   "cell_type": "code",
   "execution_count": 46,
   "id": "964dd8b8",
   "metadata": {},
   "outputs": [
    {
     "data": {
      "text/plain": [
       "['money', 'candy', 'liquor licence', 'business licence', 'bank account']"
      ]
     },
     "execution_count": 46,
     "metadata": {},
     "output_type": "execute_result"
    }
   ],
   "source": [
    "business_todo"
   ]
  },
  {
   "cell_type": "code",
   "execution_count": 47,
   "id": "f6431019",
   "metadata": {},
   "outputs": [],
   "source": [
    "business_todo.append('employees')"
   ]
  },
  {
   "cell_type": "code",
   "execution_count": 48,
   "id": "ff6fc749",
   "metadata": {},
   "outputs": [
    {
     "data": {
      "text/plain": [
       "['money',\n",
       " 'candy',\n",
       " 'liquor licence',\n",
       " 'business licence',\n",
       " 'bank account',\n",
       " 'employees']"
      ]
     },
     "execution_count": 48,
     "metadata": {},
     "output_type": "execute_result"
    }
   ],
   "source": [
    "business_todo"
   ]
  },
  {
   "cell_type": "code",
   "execution_count": 49,
   "id": "0aa770d2",
   "metadata": {},
   "outputs": [
    {
     "name": "stdout",
     "output_type": "stream",
     "text": [
      "liquor licence\n"
     ]
    }
   ],
   "source": [
    "print(business_todo[2])"
   ]
  },
  {
   "cell_type": "code",
   "execution_count": 50,
   "id": "9a9d40ad",
   "metadata": {},
   "outputs": [
    {
     "name": "stdout",
     "output_type": "stream",
     "text": [
      "employees\n"
     ]
    }
   ],
   "source": [
    "print(business_todo[-1])"
   ]
  },
  {
   "cell_type": "code",
   "execution_count": 51,
   "id": "de293ca2",
   "metadata": {},
   "outputs": [
    {
     "name": "stdout",
     "output_type": "stream",
     "text": [
      "['business licence', 'bank account', 'employees']\n"
     ]
    }
   ],
   "source": [
    "print(business_todo[3:])"
   ]
  },
  {
   "cell_type": "code",
   "execution_count": 53,
   "id": "20fd3260",
   "metadata": {},
   "outputs": [
    {
     "ename": "IndexError",
     "evalue": "list index out of range",
     "output_type": "error",
     "traceback": [
      "\u001b[0;31m---------------------------------------------------------------------------\u001b[0m",
      "\u001b[0;31mIndexError\u001b[0m                                Traceback (most recent call last)",
      "\u001b[0;32m/tmp/ipykernel_17665/3691439040.py\u001b[0m in \u001b[0;36m<module>\u001b[0;34m\u001b[0m\n\u001b[0;32m----> 1\u001b[0;31m \u001b[0mprint\u001b[0m\u001b[0;34m(\u001b[0m\u001b[0mbusiness_todo\u001b[0m\u001b[0;34m[\u001b[0m\u001b[0;36m6\u001b[0m\u001b[0;34m]\u001b[0m\u001b[0;34m)\u001b[0m\u001b[0;34m\u001b[0m\u001b[0;34m\u001b[0m\u001b[0m\n\u001b[0m",
      "\u001b[0;31mIndexError\u001b[0m: list index out of range"
     ]
    }
   ],
   "source": [
    "print(business_todo[6])"
   ]
  },
  {
   "cell_type": "code",
   "execution_count": 62,
   "id": "1b234aaf",
   "metadata": {},
   "outputs": [
    {
     "name": "stdout",
     "output_type": "stream",
     "text": [
      "['business licence', 'employees']\n"
     ]
    }
   ],
   "source": [
    "print(business_todo[3::2])"
   ]
  },
  {
   "cell_type": "code",
   "execution_count": 55,
   "id": "1a769b0c",
   "metadata": {},
   "outputs": [
    {
     "data": {
      "text/plain": [
       "6"
      ]
     },
     "execution_count": 55,
     "metadata": {},
     "output_type": "execute_result"
    }
   ],
   "source": [
    "len(business_todo)"
   ]
  },
  {
   "cell_type": "code",
   "execution_count": 58,
   "id": "d4d6860f",
   "metadata": {},
   "outputs": [
    {
     "data": {
      "text/plain": [
       "['money', 'liquor licence', 'bank account']"
      ]
     },
     "execution_count": 58,
     "metadata": {},
     "output_type": "execute_result"
    }
   ],
   "source": [
    "start = 0\n",
    "stop = 6\n",
    "step = 2\n",
    "business_todo[start:stop:step]"
   ]
  },
  {
   "cell_type": "code",
   "execution_count": 59,
   "id": "342aa3f8",
   "metadata": {},
   "outputs": [
    {
     "data": {
      "text/plain": [
       "['money',\n",
       " 'candy',\n",
       " 'liquor licence',\n",
       " 'business licence',\n",
       " 'bank account',\n",
       " 'employees']"
      ]
     },
     "execution_count": 59,
     "metadata": {},
     "output_type": "execute_result"
    }
   ],
   "source": [
    "business_todo[::]"
   ]
  },
  {
   "cell_type": "code",
   "execution_count": 64,
   "id": "1e69f5b8",
   "metadata": {},
   "outputs": [],
   "source": [
    "business_todo.append(\"\"\"location\"\"\")"
   ]
  },
  {
   "cell_type": "code",
   "execution_count": 65,
   "id": "a6c3af14",
   "metadata": {},
   "outputs": [
    {
     "data": {
      "text/plain": [
       "['money',\n",
       " 'candy',\n",
       " 'liquor licence',\n",
       " 'business licence',\n",
       " 'bank account',\n",
       " 'employees',\n",
       " 'location']"
      ]
     },
     "execution_count": 65,
     "metadata": {},
     "output_type": "execute_result"
    }
   ],
   "source": [
    "business_todo"
   ]
  },
  {
   "cell_type": "code",
   "execution_count": 66,
   "id": "36b49af2",
   "metadata": {},
   "outputs": [],
   "source": [
    "my_list = [0,1,2,3,4,5,6,7,8,9,10]"
   ]
  },
  {
   "cell_type": "code",
   "execution_count": 69,
   "id": "c3f24aff",
   "metadata": {},
   "outputs": [
    {
     "data": {
      "text/plain": [
       "[0, 3, 6, 9]"
      ]
     },
     "execution_count": 69,
     "metadata": {},
     "output_type": "execute_result"
    }
   ],
   "source": [
    "my_list[::3]"
   ]
  },
  {
   "cell_type": "code",
   "execution_count": 74,
   "id": "85de9ce4",
   "metadata": {},
   "outputs": [
    {
     "name": "stdout",
     "output_type": "stream",
     "text": [
      "0\n",
      "1\n",
      "2\n",
      "3\n",
      "4\n",
      "5\n",
      "6\n",
      "7\n",
      "8\n",
      "9\n",
      "10\n",
      "11\n",
      "12\n",
      "13\n",
      "14\n",
      "15\n",
      "16\n",
      "17\n",
      "18\n",
      "19\n",
      "20\n",
      "21\n",
      "22\n",
      "23\n",
      "24\n",
      "25\n",
      "26\n",
      "27\n",
      "28\n",
      "29\n",
      "30\n",
      "31\n",
      "32\n",
      "33\n",
      "34\n",
      "35\n",
      "36\n",
      "37\n",
      "38\n",
      "39\n",
      "40\n",
      "41\n",
      "42\n",
      "43\n",
      "44\n",
      "45\n",
      "46\n",
      "47\n",
      "48\n",
      "49\n",
      "50\n",
      "51\n",
      "52\n",
      "53\n",
      "54\n",
      "55\n",
      "56\n",
      "57\n",
      "58\n",
      "59\n",
      "60\n",
      "61\n",
      "62\n",
      "63\n",
      "64\n",
      "65\n",
      "66\n",
      "67\n",
      "68\n",
      "69\n",
      "70\n",
      "71\n",
      "72\n",
      "73\n",
      "74\n",
      "75\n",
      "76\n",
      "77\n",
      "78\n",
      "79\n",
      "80\n",
      "81\n",
      "82\n",
      "83\n",
      "84\n",
      "85\n",
      "86\n",
      "87\n",
      "88\n",
      "89\n",
      "90\n",
      "91\n",
      "92\n",
      "93\n",
      "94\n",
      "95\n",
      "96\n",
      "97\n",
      "98\n",
      "99\n",
      "100\n"
     ]
    }
   ],
   "source": [
    "for i in range(100 + 1):\n",
    "    print(i)"
   ]
  },
  {
   "cell_type": "code",
   "execution_count": 75,
   "id": "191b01be",
   "metadata": {},
   "outputs": [
    {
     "data": {
      "text/plain": [
       "['money',\n",
       " 'candy',\n",
       " 'liquor licence',\n",
       " 'business licence',\n",
       " 'bank account',\n",
       " 'employees',\n",
       " 'location']"
      ]
     },
     "execution_count": 75,
     "metadata": {},
     "output_type": "execute_result"
    }
   ],
   "source": [
    "business_todo"
   ]
  },
  {
   "cell_type": "code",
   "execution_count": 76,
   "id": "b31456cc",
   "metadata": {},
   "outputs": [
    {
     "name": "stdout",
     "output_type": "stream",
     "text": [
      "money\n",
      "candy\n",
      "liquor licence\n",
      "business licence\n",
      "bank account\n",
      "employees\n",
      "location\n"
     ]
    }
   ],
   "source": [
    "for i in business_todo:\n",
    "    print(i)"
   ]
  },
  {
   "cell_type": "code",
   "execution_count": 79,
   "id": "ff4d1b13",
   "metadata": {},
   "outputs": [
    {
     "name": "stdout",
     "output_type": "stream",
     "text": [
      "0\n",
      "1\n",
      "4\n",
      "9\n",
      "16\n",
      "25\n",
      "36\n",
      "49\n",
      "64\n",
      "81\n",
      "100\n"
     ]
    }
   ],
   "source": [
    "for i in my_list:\n",
    "    print(i*i)"
   ]
  },
  {
   "cell_type": "code",
   "execution_count": 80,
   "id": "b5b50d20",
   "metadata": {},
   "outputs": [],
   "source": [
    "person = [\"Tyler\", 39, True, True]"
   ]
  },
  {
   "cell_type": "code",
   "execution_count": 81,
   "id": "58bf925a",
   "metadata": {},
   "outputs": [
    {
     "data": {
      "text/plain": [
       "True"
      ]
     },
     "execution_count": 81,
     "metadata": {},
     "output_type": "execute_result"
    }
   ],
   "source": [
    "person[2]"
   ]
  },
  {
   "cell_type": "code",
   "execution_count": 82,
   "id": "cf8eb22b",
   "metadata": {},
   "outputs": [
    {
     "data": {
      "text/plain": [
       "True"
      ]
     },
     "execution_count": 82,
     "metadata": {},
     "output_type": "execute_result"
    }
   ],
   "source": [
    "person[3]"
   ]
  },
  {
   "cell_type": "code",
   "execution_count": 83,
   "id": "8709c145",
   "metadata": {},
   "outputs": [],
   "source": [
    "person = {'name': 'Tyler', 'age': 39, 'is_cool': True, 'has_boat': True}"
   ]
  },
  {
   "cell_type": "code",
   "execution_count": 84,
   "id": "f32149b7",
   "metadata": {},
   "outputs": [
    {
     "ename": "KeyError",
     "evalue": "0",
     "output_type": "error",
     "traceback": [
      "\u001b[0;31m---------------------------------------------------------------------------\u001b[0m",
      "\u001b[0;31mKeyError\u001b[0m                                  Traceback (most recent call last)",
      "\u001b[0;32m/tmp/ipykernel_17665/71876269.py\u001b[0m in \u001b[0;36m<module>\u001b[0;34m\u001b[0m\n\u001b[0;32m----> 1\u001b[0;31m \u001b[0mperson\u001b[0m\u001b[0;34m[\u001b[0m\u001b[0;36m0\u001b[0m\u001b[0;34m]\u001b[0m\u001b[0;34m\u001b[0m\u001b[0;34m\u001b[0m\u001b[0m\n\u001b[0m",
      "\u001b[0;31mKeyError\u001b[0m: 0"
     ]
    }
   ],
   "source": [
    "person[0]"
   ]
  },
  {
   "cell_type": "code",
   "execution_count": 85,
   "id": "0c41c2ae",
   "metadata": {},
   "outputs": [
    {
     "data": {
      "text/plain": [
       "'Tyler'"
      ]
     },
     "execution_count": 85,
     "metadata": {},
     "output_type": "execute_result"
    }
   ],
   "source": [
    "person['name']"
   ]
  },
  {
   "cell_type": "code",
   "execution_count": 86,
   "id": "d355e969",
   "metadata": {},
   "outputs": [
    {
     "data": {
      "text/plain": [
       "['money',\n",
       " 'candy',\n",
       " 'liquor licence',\n",
       " 'business licence',\n",
       " 'bank account',\n",
       " 'employees',\n",
       " 'location']"
      ]
     },
     "execution_count": 86,
     "metadata": {},
     "output_type": "execute_result"
    }
   ],
   "source": [
    "business_todo"
   ]
  },
  {
   "cell_type": "code",
   "execution_count": 87,
   "id": "39742055",
   "metadata": {},
   "outputs": [],
   "source": [
    "business_dict = {}"
   ]
  },
  {
   "cell_type": "code",
   "execution_count": 88,
   "id": "759c4a2f",
   "metadata": {},
   "outputs": [],
   "source": [
    "business_dict['troy']= 'money'"
   ]
  },
  {
   "cell_type": "code",
   "execution_count": 89,
   "id": "871efb93",
   "metadata": {},
   "outputs": [
    {
     "data": {
      "text/plain": [
       "{'troy': 'money'}"
      ]
     },
     "execution_count": 89,
     "metadata": {},
     "output_type": "execute_result"
    }
   ],
   "source": [
    "business_dict"
   ]
  },
  {
   "cell_type": "code",
   "execution_count": 90,
   "id": "8a24bf1c",
   "metadata": {},
   "outputs": [
    {
     "data": {
      "text/plain": [
       "'money'"
      ]
     },
     "execution_count": 90,
     "metadata": {},
     "output_type": "execute_result"
    }
   ],
   "source": [
    "business_dict['troy']"
   ]
  },
  {
   "cell_type": "code",
   "execution_count": 91,
   "id": "e916b5d3",
   "metadata": {},
   "outputs": [],
   "source": [
    "business_dict['troy'] = ['money', 'candy']"
   ]
  },
  {
   "cell_type": "code",
   "execution_count": 92,
   "id": "a4d34a4d",
   "metadata": {},
   "outputs": [
    {
     "data": {
      "text/plain": [
       "{'troy': ['money', 'candy']}"
      ]
     },
     "execution_count": 92,
     "metadata": {},
     "output_type": "execute_result"
    }
   ],
   "source": [
    "business_dict"
   ]
  },
  {
   "cell_type": "code",
   "execution_count": 93,
   "id": "7200b971",
   "metadata": {},
   "outputs": [
    {
     "data": {
      "text/plain": [
       "['money', 'candy']"
      ]
     },
     "execution_count": 93,
     "metadata": {},
     "output_type": "execute_result"
    }
   ],
   "source": [
    "business_dict['troy']"
   ]
  },
  {
   "cell_type": "code",
   "execution_count": 94,
   "id": "2cf8a6e0",
   "metadata": {},
   "outputs": [
    {
     "data": {
      "text/plain": [
       "'candy'"
      ]
     },
     "execution_count": 94,
     "metadata": {},
     "output_type": "execute_result"
    }
   ],
   "source": [
    "business_dict['troy'].pop()"
   ]
  },
  {
   "cell_type": "code",
   "execution_count": 95,
   "id": "2eb5a965",
   "metadata": {},
   "outputs": [
    {
     "data": {
      "text/plain": [
       "{'troy': ['money']}"
      ]
     },
     "execution_count": 95,
     "metadata": {},
     "output_type": "execute_result"
    }
   ],
   "source": [
    "business_dict"
   ]
  },
  {
   "cell_type": "code",
   "execution_count": 96,
   "id": "40947a84",
   "metadata": {},
   "outputs": [],
   "source": [
    "students = [\n",
    "    {'name': 'Ash', 'age': 22},\n",
    "    {'name': 'Valeria', 'age': 21},\n",
    "    {'name': 'Richard', 'age': 23}\n",
    "]"
   ]
  },
  {
   "cell_type": "code",
   "execution_count": 97,
   "id": "1dd1dfc8",
   "metadata": {},
   "outputs": [
    {
     "data": {
      "text/plain": [
       "[{'name': 'Ash', 'age': 22},\n",
       " {'name': 'Valeria', 'age': 21},\n",
       " {'name': 'Richard', 'age': 23}]"
      ]
     },
     "execution_count": 97,
     "metadata": {},
     "output_type": "execute_result"
    }
   ],
   "source": [
    "students"
   ]
  },
  {
   "cell_type": "code",
   "execution_count": 98,
   "id": "4b994c09",
   "metadata": {},
   "outputs": [
    {
     "name": "stdout",
     "output_type": "stream",
     "text": [
      "{'name': 'Valeria', 'age': 21}\n"
     ]
    }
   ],
   "source": [
    "print(students[1])"
   ]
  },
  {
   "cell_type": "code",
   "execution_count": 99,
   "id": "2d00bd22",
   "metadata": {},
   "outputs": [
    {
     "ename": "SyntaxError",
     "evalue": "invalid syntax. Perhaps you forgot a comma? (2731945950.py, line 1)",
     "output_type": "error",
     "traceback": [
      "\u001b[0;36m  File \u001b[0;32m\"/tmp/ipykernel_17665/2731945950.py\"\u001b[0;36m, line \u001b[0;32m1\u001b[0m\n\u001b[0;31m    print(students[1]'name')\u001b[0m\n\u001b[0m          ^\u001b[0m\n\u001b[0;31mSyntaxError\u001b[0m\u001b[0;31m:\u001b[0m invalid syntax. Perhaps you forgot a comma?\n"
     ]
    }
   ],
   "source": [
    "print(students[1]'name')"
   ]
  },
  {
   "cell_type": "code",
   "execution_count": 100,
   "id": "e5aebd5e",
   "metadata": {},
   "outputs": [
    {
     "ename": "KeyError",
     "evalue": "0",
     "output_type": "error",
     "traceback": [
      "\u001b[0;31m---------------------------------------------------------------------------\u001b[0m",
      "\u001b[0;31mKeyError\u001b[0m                                  Traceback (most recent call last)",
      "\u001b[0;32m/tmp/ipykernel_17665/745017609.py\u001b[0m in \u001b[0;36m<module>\u001b[0;34m\u001b[0m\n\u001b[0;32m----> 1\u001b[0;31m \u001b[0mprint\u001b[0m\u001b[0;34m(\u001b[0m\u001b[0mstudents\u001b[0m\u001b[0;34m[\u001b[0m\u001b[0;36m1\u001b[0m\u001b[0;34m]\u001b[0m\u001b[0;34m[\u001b[0m\u001b[0;36m0\u001b[0m\u001b[0;34m]\u001b[0m\u001b[0;34m)\u001b[0m\u001b[0;34m\u001b[0m\u001b[0;34m\u001b[0m\u001b[0m\n\u001b[0m",
      "\u001b[0;31mKeyError\u001b[0m: 0"
     ]
    }
   ],
   "source": [
    "print(students[1][0])"
   ]
  },
  {
   "cell_type": "code",
   "execution_count": 101,
   "id": "b0de7e7c",
   "metadata": {},
   "outputs": [
    {
     "name": "stdout",
     "output_type": "stream",
     "text": [
      "Valeria\n"
     ]
    }
   ],
   "source": [
    "print(students[1]['name'])"
   ]
  },
  {
   "cell_type": "code",
   "execution_count": 102,
   "id": "b661fa78",
   "metadata": {},
   "outputs": [
    {
     "name": "stdout",
     "output_type": "stream",
     "text": [
      "21\n"
     ]
    }
   ],
   "source": [
    "print(students[1]['age'])"
   ]
  },
  {
   "cell_type": "code",
   "execution_count": 103,
   "id": "4acd2314",
   "metadata": {},
   "outputs": [
    {
     "name": "stdout",
     "output_type": "stream",
     "text": [
      "[{'name': 'Ash', 'age': 22}, {'name': 'Valeria', 'age': 21}, {'name': 'Richard', 'age': 23}]\n"
     ]
    }
   ],
   "source": [
    "print(students)"
   ]
  },
  {
   "cell_type": "code",
   "execution_count": 109,
   "id": "15bb319a",
   "metadata": {},
   "outputs": [
    {
     "name": "stdout",
     "output_type": "stream",
     "text": [
      "name: Ash age:  22\n",
      "name: Valeria age:  21\n",
      "name: Richard age:  23\n"
     ]
    }
   ],
   "source": [
    "for s in students:\n",
    "    print(\"name:\", s['name'],'age: ', s['age'])"
   ]
  },
  {
   "cell_type": "code",
   "execution_count": null,
   "id": "7d6a9247",
   "metadata": {},
   "outputs": [],
   "source": []
  }
 ],
 "metadata": {
  "kernelspec": {
   "display_name": "Python 3 (ipykernel)",
   "language": "python",
   "name": "python3"
  },
  "language_info": {
   "codemirror_mode": {
    "name": "ipython",
    "version": 3
   },
   "file_extension": ".py",
   "mimetype": "text/x-python",
   "name": "python",
   "nbconvert_exporter": "python",
   "pygments_lexer": "ipython3",
   "version": "3.10.4"
  }
 },
 "nbformat": 4,
 "nbformat_minor": 5
}
