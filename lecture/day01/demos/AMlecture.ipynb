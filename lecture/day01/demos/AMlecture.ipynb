{
 "cells": [
  {
   "cell_type": "markdown",
   "id": "a0be44a0",
   "metadata": {},
   "source": [
    "# Data Types\n",
    "\n",
    "- Numbers\n",
    "- Strings\n",
    "- `None`\n",
    "- Booleans"
   ]
  },
  {
   "cell_type": "code",
   "execution_count": null,
   "id": "05584104",
   "metadata": {},
   "outputs": [],
   "source": []
  }
 ],
 "metadata": {
  "kernelspec": {
   "display_name": "Python 3 (ipykernel)",
   "language": "python",
   "name": "python3"
  },
  "language_info": {
   "codemirror_mode": {
    "name": "ipython",
    "version": 3
   },
   "file_extension": ".py",
   "mimetype": "text/x-python",
   "name": "python",
   "nbconvert_exporter": "python",
   "pygments_lexer": "ipython3",
   "version": "3.10.4"
  }
 },
 "nbformat": 4,
 "nbformat_minor": 5
}
